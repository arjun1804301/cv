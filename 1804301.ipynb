{
  "nbformat": 4,
  "nbformat_minor": 0,
  "metadata": {
    "colab": {
      "name": "1804301.ipynb",
      "provenance": []
    },
    "kernelspec": {
      "name": "python3",
      "display_name": "Python 3"
    }
  },
  "cells": [
    {
      "cell_type": "code",
      "metadata": {
        "id": "FJotFjvg0NfM",
        "colab_type": "code",
        "colab": {}
      },
      "source": [
        "\n"
      ],
      "execution_count": 0,
      "outputs": []
    },
    {
      "cell_type": "code",
      "metadata": {
        "id": "ooYnpN0LI09j",
        "colab_type": "code",
        "colab": {}
      },
      "source": [
        "# count no\n",
        "\n",
        "import cv2\n",
        "acp = cv2.CascadeClassifier('Internal storage/Download/haarcascade/haarcascade_frontalface_default.xml')\n",
        "pic = cv2.imread('Internal storage/DCIM/Camera/a1.jpg')\n",
        "\n",
        "face = har.detectMultiScale(img,1.6, 2)\n",
        "for (x, y, w, h) in face:\n",
        "  cv2.rectangle(img, (x,y), (x+w, y+h),(255,0,0),2)\n",
        "  if cv2.waitKey(1)=27:\n",
        "    break\n",
        "print(len(face))\n",
        "cv2.imshow('pic',pic)\n",
        "cv2.waitKey(0)\n",
        "cv2.destroyAllWindows()\n",
        "\n",
        "\n"
      ],
      "execution_count": 0,
      "outputs": []
    },
    {
      "cell_type": "code",
      "metadata": {
        "id": "jJGmUIBwOjyv",
        "colab_type": "code",
        "colab": {}
      },
      "source": [
        "# image load\n",
        "import cv2\n",
        "cv2.imread('image.jpg')\n",
        "cv2.imshow('color image','size image')\n",
        "\n"
      ],
      "execution_count": 0,
      "outputs": []
    },
    {
      "cell_type": "code",
      "metadata": {
        "id": "uOV5nHPra2Hi",
        "colab_type": "code",
        "colab": {}
      },
      "source": [
        "# Grayscale\n",
        "import cv2\n",
        "import numpy as np\n",
        "\n",
        "img=cv2.imread('Internal storage/DCIM/Camera/acp.jpg',0)\n",
        "cv2.imshow('output',img)\n",
        "cv2.imwrite('Arjun',img)\n",
        "\n",
        "cv2.waitKey(0)\n",
        "cv2.destroyAllWindows()\n"
      ],
      "execution_count": 0,
      "outputs": []
    },
    {
      "cell_type": "code",
      "metadata": {
        "id": "ATKnVrD9cyO_",
        "colab_type": "code",
        "colab": {}
      },
      "source": [
        "#"
      ],
      "execution_count": 0,
      "outputs": []
    }
  ]
}